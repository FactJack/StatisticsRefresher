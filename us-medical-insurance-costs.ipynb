{
 "cells": [
  {
   "cell_type": "markdown",
   "metadata": {},
   "source": [
    "# *U.S. Medical Insurance Costs:* A Stastical Refresher"
   ]
  },
  {
   "cell_type": "markdown",
   "metadata": {},
   "source": [
    "The first task is to review the data, and how the data is formatted. \n",
    "Since this is a study, challenge yourself by not using any python libraries except CSV. "
   ]
  },
  {
   "cell_type": "code",
   "execution_count": 3,
   "metadata": {},
   "outputs": [
    {
     "name": "stdout",
     "output_type": "stream",
     "text": [
      "The data has the following column headers:  ['age', 'sex', 'bmi', 'children', 'smoker', 'region', 'charges']\n",
      "\n",
      "The first 3 rows of the data are:\n",
      "{'age': '19', 'sex': 'female', 'bmi': '27.9', 'children': '0', 'smoker': 'yes', 'region': 'southwest', 'charges': '16884.924'}\n",
      "{'age': '18', 'sex': 'male', 'bmi': '33.77', 'children': '1', 'smoker': 'no', 'region': 'southeast', 'charges': '1725.5523'}\n",
      "{'age': '28', 'sex': 'male', 'bmi': '33', 'children': '3', 'smoker': 'no', 'region': 'southeast', 'charges': '4449.462'}\n"
     ]
    }
   ],
   "source": [
    "import csv\n",
    "with open('insurance.csv', 'r') as insurance_csv: \n",
    "    csv_reader = csv.DictReader(insurance_csv)\n",
    "    print('The data has the following column headers: ', csv_reader.fieldnames)\n",
    "    print('\\nThe first 3 rows of the data are:')\n",
    "    csv_reader_listed = list(csv_reader)\n",
    "    for i in range(len(csv_reader_listed)):\n",
    "        print(csv_reader_listed[i])\n",
    "        if i >= 2:  # Print first 3 rows for example\n",
    "            break"
   ]
  },
  {
   "cell_type": "markdown",
   "metadata": {},
   "source": [
    "DictReader stores rows as strings by default. This doesn't allow us to perform statistical analysis. Create a dictionary with appropriate types as values."
   ]
  },
  {
   "cell_type": "code",
   "execution_count": 5,
   "metadata": {},
   "outputs": [],
   "source": [
    "with open('insurance.csv') as insurance_csv:\n",
    "    csv_reader = csv.DictReader(insurance_csv)\n",
    "    insurance_data = list(csv_reader)\n",
    "    for element in insurance_data: \n",
    "        for key in element:\n",
    "            if key == 'age':\n",
    "                element[key] = int(element.get(key))\n",
    "            elif key == 'bmi':\n",
    "                element[key] = float(element.get(key))\n",
    "            elif key == 'children':\n",
    "                element[key] = int(element.get(key))\n",
    "            elif key == 'charges':\n",
    "                element[key] = float(element.get(key))\n",
    "            else:\n",
    "                continue"
   ]
  },
  {
   "cell_type": "markdown",
   "metadata": {},
   "source": [
    "Now that we have python friendly data, define a function to find average and standard deviation. Test the function on the population's age, bmi, children, and charges. "
   ]
  },
  {
   "cell_type": "code",
   "execution_count": 7,
   "metadata": {},
   "outputs": [],
   "source": [
    "# basic functions where population can be any single dataset\n",
    "def mean(population):\n",
    "    n = len(population)\n",
    "    mean = sum(population) / n\n",
    "    return mean\n",
    "\n",
    "def sum_of_squares(population):\n",
    "    sum_of_squares = sum((x - mean(population)) ** 2 for x in population)\n",
    "    return sum_of_squares\n",
    "\n",
    "def variance(population):\n",
    "    n = len(population)\n",
    "    variance = sum_of_squares(population) / n\n",
    "    return variance\n",
    "\n",
    "def population_stdev(population):\n",
    "    standard_deviation = variance(population) ** .5 # Standard Deviation is the square root of variance\n",
    "    return standard_deviation\n",
    "    \n",
    "ages = [element.get('age') for element in insurance_data]   \n",
    "bmi = [element.get('bmi') for element in insurance_data] \n",
    "children = [element.get('children') for element in insurance_data] \n",
    "charges = [element.get('charges') for element in insurance_data] \n"
   ]
  },
  {
   "cell_type": "code",
   "execution_count": 8,
   "metadata": {},
   "outputs": [
    {
     "name": "stdout",
     "output_type": "stream",
     "text": [
      "The population has a mean age of 39.2, and an average Body Mass Index (BMI) of 30.66. On average, each person has 1.0 children with $13270.42 in insurance costs.\n",
      "\n",
      "The youngest entry is 18. This is 1.51 standard deviations from the mean. Here is the entry:\n",
      "{'age': 18, 'sex': 'male', 'bmi': 33.77, 'children': 1, 'smoker': 'no', 'region': 'southeast', 'charges': 1725.5523}\n",
      "\n",
      "The oldest entry is 64. This is 1.77 standard deviations from the mean. Here is the entry:\n",
      "{'age': 64, 'sex': 'male', 'bmi': 24.7, 'children': 1, 'smoker': 'no', 'region': 'northwest', 'charges': 30166.61817}\n",
      "\n",
      "The skinniest person has a BMI of 15.96. This is 2.41 standard deviations from the mean. Here is the entry:\n",
      "{'age': 18, 'sex': 'male', 'bmi': 15.96, 'children': 0, 'smoker': 'no', 'region': 'northeast', 'charges': 1694.7964}\n",
      "\n",
      "The fattest person has a BMI of 53.13. This is 3.69 standard deviations from the mean. Here is the entry:\n",
      "{'age': 18, 'sex': 'male', 'bmi': 53.13, 'children': 0, 'smoker': 'no', 'region': 'southeast', 'charges': 1163.4627}\n",
      "\n",
      "The lowest entry for children is 0. This is 0.91 standard deviations from the mean. Here is the entry:\n",
      "{'age': 19, 'sex': 'female', 'bmi': 27.9, 'children': 0, 'smoker': 'yes', 'region': 'southwest', 'charges': 16884.924}\n",
      "\n",
      "The entry with the most children has 5 kids. This is 3.24 standard deviations from the mean. Here is the entry:\n",
      "{'age': 19, 'sex': 'female', 'bmi': 28.6, 'children': 5, 'smoker': 'no', 'region': 'southwest', 'charges': 4687.797}\n",
      "\n",
      "The lowest insurance cost is $1121.87. This is 1.0 standard deviations from the mean. Here is the entry:\n",
      "{'age': 18, 'sex': 'male', 'bmi': 23.21, 'children': 0, 'smoker': 'no', 'region': 'southeast', 'charges': 1121.8739}\n",
      "\n",
      "The highest insurance cost is $63770.43. This is 4.17 standard deviations from the mean. Here is the entry:\n",
      "{'age': 54, 'sex': 'female', 'bmi': 47.41, 'children': 0, 'smoker': 'yes', 'region': 'southeast', 'charges': 63770.42801}\n"
     ]
    }
   ],
   "source": [
    "print('The population has a mean age of ' + str(round(mean(ages),1)) + \n",
    "      ', and an average Body Mass Index (BMI) of ' + str(round(mean(bmi),2)) +\n",
    "      '. On average, each person has ' + str(round(mean(children),0)) +\n",
    "      ' children with $' + str(round(mean(charges),2)) + ' in insurance costs.')\n",
    "\n",
    "print('\\nThe youngest entry is ' + str(round(min(ages),2)) +\n",
    "      '. This is ' + str(round((abs((min(ages) - mean(ages))) / population_stdev(ages)), 2)) + \n",
    "      ' standard deviations from the mean. Here is the entry:')\n",
    "print(insurance_data[ages.index(min(ages))])\n",
    "      \n",
    "print('\\nThe oldest entry is ' + str(round(max(ages),2)) +\n",
    "      '. This is ' + str(round((abs((max(ages) - mean(ages))) / population_stdev(ages)), 2)) + \n",
    "      ' standard deviations from the mean. Here is the entry:')\n",
    "print(insurance_data[ages.index(max(ages))])\n",
    "\n",
    "print('\\nThe skinniest person has a BMI of ' + str(round(min(bmi),2)) +\n",
    "      '. This is ' + str(round((abs((min(bmi) - mean(bmi))) / population_stdev(bmi)), 2)) + \n",
    "      ' standard deviations from the mean. Here is the entry:')\n",
    "print(insurance_data[bmi.index(min(bmi))])\n",
    "\n",
    "print('\\nThe fattest person has a BMI of ' + str(round(max(bmi),2)) +\n",
    "      '. This is ' + str(round((abs((max(bmi) - mean(bmi))) / population_stdev(bmi)), 2)) + \n",
    "      ' standard deviations from the mean. Here is the entry:')\n",
    "print(insurance_data[bmi.index(max(bmi))])\n",
    "\n",
    "print('\\nThe lowest entry for children is ' + str(round(min(children),2)) +\n",
    "      '. This is ' + str(round((abs((min(children) - mean(children))) / population_stdev(children)), 2)) + \n",
    "      ' standard deviations from the mean. Here is the entry:')\n",
    "print(insurance_data[children.index(min(children))])\n",
    "\n",
    "print('\\nThe entry with the most children has ' + str(round(max(children),2)) + ' kids'\n",
    "      '. This is ' + str(round((abs((max(children) - mean(children))) / population_stdev(children)), 2)) + \n",
    "      ' standard deviations from the mean. Here is the entry:')\n",
    "print(insurance_data[children.index(max(children))])\n",
    "\n",
    "print('\\nThe lowest insurance cost is $' + str(round(min(charges),2)) +\n",
    "      '. This is ' + str(round((abs((min(charges) - mean(charges))) / population_stdev(charges)), 2)) + \n",
    "      ' standard deviations from the mean. Here is the entry:')\n",
    "print(insurance_data[charges.index(min(charges))])\n",
    "\n",
    "print('\\nThe highest insurance cost is $' + str(round(max(charges),2)) +\n",
    "      '. This is ' + str(round((abs((max(charges) - mean(charges))) / population_stdev(charges)), 2)) + \n",
    "      ' standard deviations from the mean. Here is the entry:')\n",
    "print(insurance_data[charges.index(max(charges))])"
   ]
  },
  {
   "cell_type": "markdown",
   "metadata": {},
   "source": [
    "Now review the qualitative entries by finding the portion of males, smokers, and persons in each region. "
   ]
  },
  {
   "cell_type": "code",
   "execution_count": 10,
   "metadata": {},
   "outputs": [
    {
     "name": "stdout",
     "output_type": "stream",
     "text": [
      "There are 676 males representing 50.5% of the population\n",
      "There are 274 smokers respresenting 20.5% of the population\n",
      "Regions: {'southwest': 325, 'southeast': 364, 'northwest': 325, 'northeast': 324}\n"
     ]
    }
   ],
   "source": [
    "males = 0\n",
    "smokers = 0\n",
    "regions = {}\n",
    "\n",
    "for person in insurance_data:\n",
    "    if person.get('sex') == 'male':\n",
    "        males += 1\n",
    "    if person.get('smoker') == 'yes':\n",
    "        smokers += 1\n",
    "    if person.get('region') in regions:\n",
    "        regions[person.get('region')] += 1\n",
    "    else:\n",
    "        regions[person.get('region')] = 1\n",
    "        \n",
    "print(f'There are {males} males representing {(round(males/len(insurance_data), 3) * 100 )}% of the population')\n",
    "print(f'There are {smokers} smokers respresenting {(round(smokers/len(insurance_data), 3) * 100)}% of the population')\n",
    "print(f'Regions: {regions}')"
   ]
  },
  {
   "cell_type": "code",
   "execution_count": 11,
   "metadata": {
    "scrolled": true
   },
   "outputs": [
    {
     "name": "stdout",
     "output_type": "stream",
     "text": [
      "There are 4 regions.\n",
      "The Southwest region contains 24.3% of the population\n",
      "The Southeast region contains 27.200000000000003% of the population\n",
      "The Northwest region contains 24.3% of the population\n",
      "The Northeast region contains 24.2% of the population\n"
     ]
    }
   ],
   "source": [
    "print('There are 4 regions.')\n",
    "print(f\"The Southwest region contains {(round(regions.get('southwest') / len(insurance_data), 3) * 100)}% of the population\")\n",
    "print(f\"The Southeast region contains {(round(regions.get('southeast') / len(insurance_data), 3) * 100)}% of the population\") # multiply then round\n",
    "print(f\"The Northwest region contains {(round(regions.get('northwest') / len(insurance_data), 3) * 100)}% of the population\")\n",
    "print(f\"The Northeast region contains {(round(regions.get('northeast') / len(insurance_data), 3) * 100)}% of the population\")"
   ]
  },
  {
   "cell_type": "markdown",
   "metadata": {},
   "source": [
    "This is great for basic analysis and understanding the population. Analizing data this way infers age has the highest correlation to charges. To confirm this hypothesis, find the correlation coeffecient of each field to charges. Explore the differences between using a simplified pearson's rho and the unsimplified rho formula. Since this is not a collective list of person's in the United States, assume insurance.csv is a random sample. "
   ]
  },
  {
   "cell_type": "code",
   "execution_count": 13,
   "metadata": {},
   "outputs": [
    {
     "name": "stdout",
     "output_type": "stream",
     "text": [
      "Age has a 0.30 correlation to Charges. BMI has a 0.20 correlation to Charges. Amount of children has a 0.07 correlation to Charges.\n"
     ]
    }
   ],
   "source": [
    "def sample_rho(x, y):\n",
    "    n = len(x)\n",
    "    mean_x = sum(x) / n\n",
    "    mean_y = sum(y) / n\n",
    "    numerator = (sum((xi - mean_x) * (yi - mean_y) for xi, yi in zip(x, y))) / n #formula for covariance\n",
    "    denominator = population_stdev(x) * population_stdev(y)\n",
    "    #numerator = sum((xi * yi) for xi, yi in zip(x, y)) - (sum(x) * sum(y)) # numerically unstable equivalent\n",
    "    #denominator = (sum(xi ** 2 for xi in x) - (sum(x) ** 2)) * (sum(yi ** 2 for yi in y) - (sum(y) ** 2)) # numerically unstable eq \n",
    "    #return numerator / (denominator ** .5) # numberically unstable rho \n",
    "    return format(numerator / denominator , '.2F')\n",
    "print('Age has a ' + str(sample_rho(ages, charges)) + \n",
    "      ' correlation to Charges. BMI has a ' + str(sample_rho(bmi, charges)) +\n",
    "      ' correlation to Charges. Amount of children has a ' + str(sample_rho(children, charges)) +\n",
    "      ' correlation to Charges.')"
   ]
  },
  {
   "cell_type": "code",
   "execution_count": 14,
   "metadata": {},
   "outputs": [
    {
     "name": "stdout",
     "output_type": "stream",
     "text": [
      "H0: charges are not based on region. ie: Are the means across regions equal?\n",
      "The f_statistic is extremely small at 0.0085. This measure the ratio of variance among the groups\n",
      "This suggest the means of each group are incredibly close to the overall mean:\n",
      "Overall: 13270.422265141257\n",
      "southwest: 12346.93737729231\n",
      "southeast: 14735.411437609895\n",
      "northwest: 12417.575373969228\n",
      "northeast: 13406.3845163858\n",
      "Thus we will accept the null hypothesis\n"
     ]
    }
   ],
   "source": [
    "print('H0: charges are not based on region. ie: Are the means across regions equal?')\n",
    "\n",
    "region_charges = {}\n",
    "\n",
    "for person in insurance_data:\n",
    "    if person.get('region') in region_charges:\n",
    "        region_charges[person.get('region')] = region_charges[person.get('region')] + (person.get('charges'),)\n",
    "    else:\n",
    "        region_charges[person.get('region')] = (person.get('charges'),)\n",
    "\n",
    "regions_ssb = round(sum((mean(region_charges.get(x)) - mean(charges)) ** 2 for x in region_charges), 2)\n",
    "\n",
    "f_stat = (regions_ssb / (len(region_charges) - 1)) / ((sum_of_squares(charges) - regions_ssb) / (len(charges) - len(region_charges)))\n",
    "\n",
    "print(f'The f_statistic is extremely small at {round(f_stat, 4)}. This measure the ratio of variance among the groups')\n",
    "print('This suggest the means of each group are incredibly close to the overall mean:\\nOverall: ' + str(mean(charges)))\n",
    "for key in region_charges:\n",
    "    print(f'{key}: {mean(region_charges.get(key))}')\n",
    "print('Thus we will accept the null hypothesis')\n",
    "# at this point, I could define a function that opens the csv file and calculates an f_stat or correlation coefficent.\n",
    "# I assume this sample is not a good representation of today's populace in the US. \n",
    "# The purpose of this notebook is to refresh my memory on statistics. I'll define more practical functions later."
   ]
  },
  {
   "cell_type": "code",
   "execution_count": 15,
   "metadata": {},
   "outputs": [
    {
     "name": "stdout",
     "output_type": "stream",
     "text": [
      "The charges are not materially effected by sex within your sample\n"
     ]
    }
   ],
   "source": [
    "# H0: Charges are not based on sex. \n",
    "# where x is the groups or categories and y is the dependent variable nested with an iterable (or dict)\n",
    "def f_stat(x, y, dictionary): \n",
    "    y_grouped = dict()\n",
    "    y_sst = 0\n",
    "    ssb = 0\n",
    "    sum_y = 0\n",
    "    for element in dictionary:\n",
    "        sum_y += element.get(y)\n",
    "        if element.get(x) in y_grouped:\n",
    "            y_grouped[element.get(x)] = y_grouped[element.get(x)] + (element.get(y),)\n",
    "        else:\n",
    "            y_grouped[element.get(x)] = (element.get(y),)\n",
    "    mean_y = sum_y / len(dictionary)\n",
    "    for element in dictionary:\n",
    "        y_sst += (element.get(y) - mean_y) ** 2\n",
    "    for key in y_grouped:\n",
    "        ssb += ((sum(y_grouped.get(key)) / len(y_grouped.get(key))) - mean_y) ** 2\n",
    "    msb = ssb / (len(y_grouped) - 1)\n",
    "    msw = (y_sst - ssb) / (len(y) - len(y_grouped))\n",
    "    f_stat = msb / msw\n",
    "    if f_stat > .05:\n",
    "        print(f'There is an alternate hypothesis. Your F-Statistic is {round(f_stat, 3)}')\n",
    "    else:\n",
    "        print(f'The {y} are not materially effected by {x} within your sample')\n",
    "\n",
    "f_stat('sex', 'charges', insurance_data)\n",
    "\n",
    "# Dummy variables may be a better experiment of correlation between qualitative and quantitative variables \n",
    "# Consider probability density or cumulative distribution for developing a probability function. \n",
    "# moving on for now. "
   ]
  },
  {
   "cell_type": "markdown",
   "metadata": {},
   "source": [
    "This is great for basic analysis and understanding the population. Now define a function to answer a few questions\n",
    "\n",
    "What is the average difference in costs between male and female? \n",
    "\n",
    "What is the average difference in costs between smokers and non-smokers?\n",
    "\n",
    "What is the likely change in costs per child? \n",
    "\n",
    "What is the likely change in costs per point of BMI?"
   ]
  },
  {
   "cell_type": "code",
   "execution_count": 17,
   "metadata": {},
   "outputs": [
    {
     "name": "stdout",
     "output_type": "stream",
     "text": [
      "There are 2 subgroups within sex group: ['female', 'male']\n",
      "The male group has the highest average cost, that is 11.04% more than smallest group: female.\n",
      "There are 2 subgroups within smoker group: ['yes', 'no']\n",
      "The yes group has the highest average cost, that is 280.0% more than smallest group: no.\n",
      "There are 6 subgroups within children group: [0, 1, 3, 2, 5, 4]\n",
      "The 3 group has the highest average cost, that is 74.77% more than smallest group: 5.\n"
     ]
    }
   ],
   "source": [
    "def mean_group_charges(group, data):\n",
    "    group_values = dict()\n",
    "    group_charges = dict()\n",
    "    for person in data:\n",
    "        if person.get(group) in group_values:\n",
    "            group_values[person.get(group)] = group_values.get(person.get(group)) + 1\n",
    "            group_charges[person.get(group)] = group_charges.get(person.get(group)) + person.get('charges')\n",
    "        else:\n",
    "            group_values[person.get(group)] = 1\n",
    "            group_charges[person.get(group)] = person.get('charges')\n",
    "    for key in group_charges:\n",
    "        group_charges[key] = group_charges.get(key) / group_values.get(key) #sets values to mean instead of total\n",
    "    max_group = max(group_charges, key=group_charges.get)\n",
    "    min_group = min(group_charges, key=group_charges.get)\n",
    "    min_max_diff = round(((group_charges.get(max_group) - group_charges.get(min_group)) / group_charges.get(min_group)) * 100, 2)\n",
    "    print(f'There are {len(group_values.keys())} subgroups within {(group)} group: {list(group_values.keys())}')\n",
    "    print(f'The {max_group} group has the highest average cost, that is {min_max_diff}% more than smallest group: {min_group}.')\n",
    "    return group_charges\n",
    "    \n",
    "sex_charges = mean_group_charges('sex', insurance_data)\n",
    "smoker_charges = mean_group_charges('smoker', insurance_data)\n",
    "child_charges = mean_group_charges('children', insurance_data)"
   ]
  },
  {
   "cell_type": "code",
   "execution_count": 18,
   "metadata": {},
   "outputs": [
    {
     "name": "stdout",
     "output_type": "stream",
     "text": [
      "{'female': 12569.57884383534, 'male': 13956.751177721886}\n",
      "{'yes': 32050.23183153285, 'no': 8434.268297856199}\n",
      "{0: 12365.975601635882, 1: 12731.171831635793, 3: 15355.31836681528, 2: 15073.563733958328, 5: 8786.035247222222, 4: 13850.656311199999}\n"
     ]
    }
   ],
   "source": [
    "# Checking dictionaries for accuracy\n",
    "print(sex_charges)\n",
    "print(smoker_charges)\n",
    "print(child_charges)"
   ]
  },
  {
   "cell_type": "markdown",
   "metadata": {},
   "source": [
    "There appears to be some outliers skewing our analysis. Correct for these outliers and run the function again. "
   ]
  },
  {
   "cell_type": "code",
   "execution_count": 20,
   "metadata": {},
   "outputs": [
    {
     "name": "stdout",
     "output_type": "stream",
     "text": [
      "7 person(s) removed\n",
      "There are 2 subgroups within sex group: ['female', 'male']\n",
      "The male group has the highest average cost, that is 10.89% more than smallest group: female.\n",
      "There are 2 subgroups within smoker group: ['yes', 'no']\n",
      "The yes group has the highest average cost, that is 272.03% more than smallest group: no.\n",
      "There are 6 subgroups within children group: [0, 1, 3, 2, 5, 4]\n",
      "The 2 group has the highest average cost, that is 71.56% more than smallest group: 5.\n"
     ]
    }
   ],
   "source": [
    "new_insurance_data = []\n",
    "for person in insurance_data: # using z score to remove outliers\n",
    "    if person.get('charges') < (mean(charges) + 3 * population_stdev(charges)): \n",
    "        if person.get('charges') > (mean(charges) - 3 * population_stdev(charges)):\n",
    "            new_insurance_data.append(person)\n",
    "print(f'{len(insurance_data) - len(new_insurance_data)} person(s) removed')\n",
    "sex_charges = mean_group_charges('sex', new_insurance_data)\n",
    "smoker_charges = mean_group_charges('smoker', new_insurance_data)\n",
    "child_charges = mean_group_charges('children', new_insurance_data)"
   ]
  },
  {
   "cell_type": "markdown",
   "metadata": {},
   "source": [
    "F_statistic implied sex did not materially change price. Visually comparing group means shows some difference.\n",
    "Define a function for a model person with field names as inputs.\n",
    "Ignore error checking for this exercise. "
   ]
  },
  {
   "cell_type": "code",
   "execution_count": 22,
   "metadata": {},
   "outputs": [
    {
     "name": "stdout",
     "output_type": "stream",
     "text": [
      "10497.142786978502\n"
     ]
    }
   ],
   "source": [
    "def model_person(age, sex, body_mass, child, smoker, region):\n",
    "    est_age = []\n",
    "    for person in new_insurance_data:\n",
    "        if person.get('age') < age + population_stdev(ages):\n",
    "            if person.get('age') > age - population_stdev(ages):\n",
    "                est_age.append(person.get('charges'))\n",
    "    est_age = sum(est_age) / len(est_age)\n",
    "    est_sex = []\n",
    "    for person in new_insurance_data:\n",
    "        if person.get('sex') == sex:\n",
    "            est_sex.append(person.get('charges'))\n",
    "    est_sex = sum(est_sex) / len(est_sex)\n",
    "    est_bmi = []\n",
    "    for person in new_insurance_data:\n",
    "        if person.get('bmi') < body_mass + population_stdev(bmi):\n",
    "            if person.get('bmi') > body_mass - population_stdev(bmi):\n",
    "                est_bmi.append(person.get('charges'))\n",
    "    est_bmi = sum(est_bmi) / len(est_bmi)\n",
    "    est_children = []\n",
    "    for person in new_insurance_data:\n",
    "        if person.get('children') == child:\n",
    "            est_children.append(person.get('charges'))\n",
    "    est_children = sum(est_children) / len(est_children)\n",
    "    est_smoker = []\n",
    "    for person in new_insurance_data:\n",
    "        if person.get('smoker') == smoker:\n",
    "            est_smoker.append(person.get('charges'))\n",
    "    est_smoker = sum(est_smoker) / len(est_smoker)\n",
    "    est_region = []\n",
    "    for person in new_insurance_data:\n",
    "        if person.get('region') == region:\n",
    "            est_region.append(person.get('charges'))\n",
    "    est_region = sum(est_region) / len(est_region)\n",
    "    est_charges = (est_age * .3) + (est_sex * .03) + (est_bmi * .2) + (est_children * .06) + (est_smoker * .4) + (est_region * .01)\n",
    "    return est_charges\n",
    "\n",
    "print(model_person(34, 'female', 27.0, 1, 'no', 'northeast'))"
   ]
  },
  {
   "cell_type": "markdown",
   "metadata": {},
   "source": [
    "Finally, test the model by using values observed and noting the errors. "
   ]
  },
  {
   "cell_type": "code",
   "execution_count": 39,
   "metadata": {},
   "outputs": [
    {
     "name": "stdout",
     "output_type": "stream",
     "text": [
      "Person 1 actual charges are 16884.924.\n",
      "The model predicted 18972.19. A difference of -2087.26 .\n",
      "Person 334 actual charges are 1725.5523.\n",
      "The model predicted 10240.53. A difference of -8514.98 .\n",
      "Person 667 actual charges are 4449.462.\n",
      "The model predicted 10661.13. A difference of -6211.67 .\n",
      "Person 1000 actual charges are 21984.47061.\n",
      "The model predicted 10213.82. A difference of 11770.65 .\n",
      "Person 1333 actual charges are 3866.8552.\n",
      "The model predicted 10360.59. A difference of -6493.73 .\n"
     ]
    }
   ],
   "source": [
    "test_list = list(range(1, 1338, 333))\n",
    "for i in range(len(test_list)):\n",
    "    print(\"Person \" + str(test_list[i]) + \" actual charges are \" + str(new_insurance_data[i].get('charges')) + \".\")\n",
    "    model_predict =(\n",
    "        model_person(new_insurance_data[i].get('age'), \n",
    "        new_insurance_data[i].get('sex'), \n",
    "        new_insurance_data[i].get('bmi'), \n",
    "        new_insurance_data[i].get('children'), \n",
    "        new_insurance_data[i].get('smoker'), \n",
    "        new_insurance_data[i].get('region')))\n",
    "    print(f\"The model predicted {round(model_predict, 2)}. A difference of {round(new_insurance_data[i].get('charges') - model_predict, 2)}.\")"
   ]
  },
  {
   "cell_type": "markdown",
   "metadata": {},
   "source": [
    "The intention is not to make a successful model, but to study the concepts of statistical analysis and implement mathmatical formulas in Python.\n",
    "This study is prior to learning about libraries in python. \n",
    "Thank you for reviewing!"
   ]
  }
 ],
 "metadata": {
  "kernelspec": {
   "display_name": "Python 3 (ipykernel)",
   "language": "python",
   "name": "python3"
  },
  "language_info": {
   "codemirror_mode": {
    "name": "ipython",
    "version": 3
   },
   "file_extension": ".py",
   "mimetype": "text/x-python",
   "name": "python",
   "nbconvert_exporter": "python",
   "pygments_lexer": "ipython3",
   "version": "3.11.7"
  }
 },
 "nbformat": 4,
 "nbformat_minor": 4
}
